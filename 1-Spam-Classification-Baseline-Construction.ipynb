{
 "cells": [
  {
   "cell_type": "markdown",
   "metadata": {},
   "source": [
    "# Spam classification\n",
    "Strategies:\n",
    "- Baseline: TFIDF + Cosine similarity KNN\n",
    "- Text preprocessing: \n",
    "    - Remove + non-remove stopwords\n",
    "    - Stemming\n",
    "- Metrics:\n",
    "    - Accuracy, Precision, Recall, F1-score\n",
    "\n",
    "# Import libraries"
   ]
  },
  {
   "cell_type": "code",
   "execution_count": 137,
   "metadata": {},
   "outputs": [],
   "source": [
    "import numpy as np\n",
    "from sklearn.feature_extraction.text import TfidfVectorizer\n",
    "from sklearn.model_selection import train_test_split\n",
    "from sklearn.neighbors import KNeighborsClassifier\n",
    "from collections import Counter\n",
    "from sklearn.metrics import f1_score,accuracy_score\n",
    "import matplotlib.pyplot as plt"
   ]
  },
  {
   "cell_type": "markdown",
   "metadata": {},
   "source": [
    "# Data Preprocessing"
   ]
  },
  {
   "cell_type": "markdown",
   "metadata": {},
   "source": [
    "Load data as a list of pairs of sentences and labels (0 for non-spam, 1 for spam)"
   ]
  },
  {
   "cell_type": "code",
   "execution_count": 14,
   "metadata": {},
   "outputs": [],
   "source": [
    "# Load data as a list of pairs of sentences and labels (0 for non-spam, 1 for spam)\n",
    "data = []\n",
    "with open('SMSSpamCollection') as f:\n",
    "    for line in f:\n",
    "        firstword = (line.split()[0])\n",
    "        label = None\n",
    "        if firstword == 'ham':\n",
    "            label = 0\n",
    "        else: \n",
    "            label = 1\n",
    "        text = line.replace(firstword,'').strip()\n",
    "        data.append([text,label])\n",
    "# transform data to numpy array\n",
    "data = np.array(data)"
   ]
  },
  {
   "cell_type": "code",
   "execution_count": 19,
   "metadata": {},
   "outputs": [],
   "source": [
    "X = TfidfVectorizer().fit_transform(data[:,0])\n",
    "Y = data[:,1]"
   ]
  },
  {
   "cell_type": "code",
   "execution_count": 58,
   "metadata": {
    "scrolled": true
   },
   "outputs": [
    {
     "data": {
      "text/plain": [
       "<BarContainer object of 2 artists>"
      ]
     },
     "execution_count": 58,
     "metadata": {},
     "output_type": "execute_result"
    },
    {
     "data": {
      "image/png": "[encoded data removed]",
      "text/plain": [
       "<Figure size 432x288 with 1 Axes>"
      ]
     },
     "metadata": {
      "needs_background": "light"
     },
     "output_type": "display_data"
    }
   ],
   "source": [
    "count_pos_neg = []\n",
    "for key,value in Counter(Y).items():\n",
    "    count_pos_neg.append([key,value])\n",
    "count_pos_neg = np.array(count_pos_neg).astype('uint16')\n",
    "plt.bar(['Non-spam','Spam'],count_pos_neg[:,1],color=['r','b'])\n"
   ]
  },
  {
   "cell_type": "markdown",
   "metadata": {},
   "source": [
    "The data is skewed, non-spam data is dominant\n",
    "Things to consider:\n",
    "    - New evaluation metrics, not accuracy, but F1 Score"
   ]
  },
  {
   "cell_type": "code",
   "execution_count": 44,
   "metadata": {},
   "outputs": [
    {
     "data": {
      "text/plain": [
       "array(['4827', '747'], dtype='<U4')"
      ]
     },
     "execution_count": 44,
     "metadata": {},
     "output_type": "execute_result"
    }
   ],
   "source": [
    "count_pos_neg[:,1]"
   ]
  },
  {
   "cell_type": "code",
   "execution_count": 24,
   "metadata": {},
   "outputs": [],
   "source": [
    "X_train, X_test, Y_train, Y_test = train_test_split(X,Y,test_size=574)"
   ]
  },
  {
   "cell_type": "code",
   "execution_count": 101,
   "metadata": {},
   "outputs": [],
   "source": [
    "model = KNeighborsClassifier(n_neighbors=16)"
   ]
  },
  {
   "cell_type": "code",
   "execution_count": 122,
   "metadata": {},
   "outputs": [
    {
     "name": "stdout",
     "output_type": "stream",
     "text": [
      "Fscore= 0.8382352941176471\n"
     ]
    }
   ],
   "source": [
    "model.fit(X_train,Y_train)\n",
    "Y_test_pred = model.predict(X_test)\n",
    "fscore = f1_score(Y_test_pred.astype('uint8'),Y_test.astype('uint8'))\n",
    "print('Fscore=',fscore)"
   ]
  },
  {
   "cell_type": "markdown",
   "metadata": {},
   "source": [
    "# Hyperparameter tuning"
   ]
  },
  {
   "cell_type": "code",
   "execution_count": 143,
   "metadata": {},
   "outputs": [
    {
     "name": "stdout",
     "output_type": "stream",
     "text": [
      "Finding best \"neighbor\" hyperparam..\n",
      "Best neighbor= 21\n",
      "Best fscore= 0.8951048951048951\n",
      "Accuracy= 0.9738675958188153\n"
     ]
    }
   ],
   "source": [
    "max_fscore = 0\n",
    "best_neighbor = 0\n",
    "print(\"Finding best \\\"neighbor\\\" hyperparam..\")\n",
    "for neighbor in range(1,30):\n",
    "    model = KNeighborsClassifier(n_neighbors=neighbor)\n",
    "    model.fit(X_train,Y_train)\n",
    "    Y_test_pred = model.predict(X_test)\n",
    "    fscore = f1_score(Y_test_pred.astype('uint8'),Y_test.astype('uint8'))\n",
    "    if max_fscore < fscore:\n",
    "        max_fscore = fscore\n",
    "        best_neighbor = neighbor\n",
    "        accu = accuracy_score(Y_test_pred.astype('uint8'),Y_test.astype('uint8'))\n",
    "print('Best neighbor=',best_neighbor)\n",
    "print('Best fscore=',max_fscore)\n",
    "print('Accuracy=',accu)"
   ]
  },
  {
   "cell_type": "code",
   "execution_count": 142,
   "metadata": {},
   "outputs": [
    {
     "name": "stdout",
     "output_type": "stream",
     "text": [
      "Finding best \"neighbor\" hyperparam..\n",
      "Best neighbor= 21\n",
      "Best fscore= 0.8951048951048951\n",
      "Accuracy= 0.9738675958188153\n"
     ]
    }
   ],
   "source": [
    "max_fscore = 0\n",
    "best_neighbor = 0\n",
    "print(\"Finding best \\\"neighbor\\\" hyperparam..\")\n",
    "for neighbor in range(1,30):\n",
    "    model = KNeighborsClassifier(n_neighbors=neighbor,metric='minkowski')\n",
    "    model.fit(X_train,Y_train)\n",
    "    Y_test_pred = model.predict(X_test)\n",
    "    fscore = f1_score(Y_test_pred.astype('uint8'),Y_test.astype('uint8'))\n",
    "    if max_fscore < fscore:\n",
    "        max_fscore = fscore\n",
    "        best_neighbor = neighbor\n",
    "        accu = accuracy_score(Y_test_pred.astype('uint8'),Y_test.astype('uint8'))\n",
    "\n",
    "print('Best neighbor=',best_neighbor)\n",
    "print('Best fscore=',max_fscore)\n",
    "print('Accuracy=',accu)"
   ]
  },
  {
   "cell_type": "code",
   "execution_count": 141,
   "metadata": {},
   "outputs": [
    {
     "name": "stdout",
     "output_type": "stream",
     "text": [
      "Finding best \"neighbor\" hyperparam..\n",
      "Best neighbor= 1\n",
      "Best fscore= 0.9395973154362416\n",
      "Accuracy= 0.9843205574912892\n"
     ]
    }
   ],
   "source": [
    "max_fscore = 0\n",
    "best_neighbor = 0\n",
    "print(\"Finding best \\\"neighbor\\\" hyperparam..\")\n",
    "for neighbor in range(1,30):\n",
    "    model = KNeighborsClassifier(n_neighbors=neighbor,metric='cosine')\n",
    "    model.fit(X_train,Y_train)\n",
    "    Y_test_pred = model.predict(X_test)\n",
    "    fscore = f1_score(Y_test_pred.astype('uint8'),Y_test.astype('uint8'))\n",
    "    if max_fscore < fscore:\n",
    "        max_fscore = fscore\n",
    "        best_neighbor = neighbor\n",
    "        accu = accuracy_score(Y_test_pred.astype('uint8'),Y_test.astype('uint8'))\n",
    "\n",
    "        \n",
    "print('Best neighbor=',best_neighbor)\n",
    "print('Best fscore=',max_fscore)\n",
    "print('Accuracy=',accu)\n"
   ]
  },
  {
   "cell_type": "code",
   "execution_count": 144,
   "metadata": {},
   "outputs": [
    {
     "name": "stdout",
     "output_type": "stream",
     "text": [
      "Finding best \"neighbor\" hyperparam..\n",
      "Best neighbor= 21\n",
      "Best fscore= 0.8951048951048951\n",
      "Accuracy= 0.9738675958188153\n"
     ]
    }
   ],
   "source": [
    "max_fscore = 0\n",
    "best_neighbor = 0\n",
    "print(\"Finding best \\\"neighbor\\\" hyperparam..\")\n",
    "for neighbor in range(1,30):\n",
    "    model = KNeighborsClassifier(n_neighbors=neighbor,metric='l2')\n",
    "    model.fit(X_train,Y_train)\n",
    "    Y_test_pred = model.predict(X_test)\n",
    "    fscore = f1_score(Y_test_pred.astype('uint8'),Y_test.astype('uint8'))\n",
    "    if max_fscore < fscore:\n",
    "        max_fscore = fscore\n",
    "        best_neighbor = neighbor\n",
    "        accu = accuracy_score(Y_test_pred.astype('uint8'),Y_test.astype('uint8'))\n",
    "\n",
    "print('Best neighbor=',best_neighbor)\n",
    "print('Best fscore=',max_fscore)\n",
    "print('Accuracy=',accu)\n"
   ]
  },
  {
   "cell_type": "markdown",
   "metadata": {},
   "source": [
    "| Architecture      | Hyperparam   | Distance metric | F1-score | Accuracy |\n",
    "|-------------------|--------------|-----------------|----------|----------|\n",
    "| Nearest Neighbors | neighbors=21 | Minkowski       | 89,51    | 97,39    |\n",
    "| Nearest Neighbors | neighbors=21 | L2              | 89,51    | 97,39    |\n",
    "| Nearest Neighbors | neighbors=1  | Cosine          | **93,96**    | **98,43**    |"
   ]
  }
 ],
 "metadata": {
  "kernelspec": {
   "display_name": "Python 3",
   "language": "python",
   "name": "python3"
  },
  "language_info": {
   "codemirror_mode": {
    "name": "ipython",
    "version": 3
   },
   "file_extension": ".py",
   "mimetype": "text/x-python",
   "name": "python",
   "nbconvert_exporter": "python",
   "pygments_lexer": "ipython3",
   "version": "3.7.4"
  }
 },
 "nbformat": 4,
 "nbformat_minor": 2
}
