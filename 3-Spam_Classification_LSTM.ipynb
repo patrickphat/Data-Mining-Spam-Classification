{
 "cells": [
  {
   "cell_type": "code",
   "execution_count": 16,
   "metadata": {
    "colab": {
     "base_uri": "https://localhost:8080/",
     "height": 34
    },
    "colab_type": "code",
    "id": "f7hp_czRj7jH",
    "outputId": "8769c0d2-29e9-4f74-cee2-76adfc49a270"
   },
   "outputs": [
    {
     "name": "stdout",
     "output_type": "stream",
     "text": [
      "Drive already mounted at /content/drive; to attempt to forcibly remount, call drive.mount(\"/content/drive\", force_remount=True).\n"
     ]
    }
   ],
   "source": [
    "from google.colab import drive\n",
    "drive.mount('/content/drive')\n",
    "project_path = '/content/drive/My Drive/Spam-Classification/'"
   ]
  },
  {
   "cell_type": "code",
   "execution_count": 3,
   "metadata": {
    "colab": {
     "base_uri": "https://localhost:8080/",
     "height": 52
    },
    "colab_type": "code",
    "id": "PyDmVAchwS19",
    "outputId": "0bcabf8e-7f22-4fd0-a57b-963fabb22829"
   },
   "outputs": [
    {
     "name": "stderr",
     "output_type": "stream",
     "text": [
      "[nltk_data] Downloading package punkt to /home/phat-ngu/nltk_data...\n",
      "[nltk_data]   Package punkt is already up-to-date!\n"
     ]
    }
   ],
   "source": [
    "import numpy as np\n",
    "from sklearn.feature_extraction.text import TfidfVectorizer\n",
    "from sklearn.model_selection import train_test_split\n",
    "\n",
    "from tensorflow.keras.callbacks import ModelCheckpoint\n",
    "from collections import Counter\n",
    "from sklearn.metrics import f1_score,accuracy_score, precision_score, recall_score\n",
    "import matplotlib.pyplot as plt\n",
    "from sklearn.model_selection import StratifiedKFold\n",
    "import pandas as pd\n",
    "import numpy as np\n",
    "import pandas as pd\n",
    "from tensorflow.keras.models import Model\n",
    "from tensorflow.keras.layers import LSTM, Activation, Dense, Dropout, Input, Embedding\n",
    "from tensorflow.keras.optimizers import RMSprop\n",
    "from tensorflow.keras.preprocessing.text import Tokenizer\n",
    "from tensorflow.keras.preprocessing import sequence\n",
    "from nltk.stem import PorterStemmer \n",
    "from nltk import tokenize\n",
    "from tensorflow.keras import backend as K\n",
    "import nltk\n",
    "import gensim.models.keyedvectors as word2vec #need to use due to depreceated model\n",
    "from nltk.tokenize import RegexpTokenizer\n",
    "nltk.download('punkt')\n",
    "import pandas as pd"
   ]
  },
  {
   "cell_type": "code",
   "execution_count": 2,
   "metadata": {
    "colab": {
     "base_uri": "https://localhost:8080/",
     "height": 139
    },
    "colab_type": "code",
    "id": "OTV5j3X_wdim",
    "outputId": "ad42f6b7-96fd-4dd8-a2d9-0ae11b595654"
   },
   "outputs": [
    {
     "name": "stdout",
     "output_type": "stream",
     "text": [
      "--2019-11-11 08:07:44--  https://s3.amazonaws.com/dl4j-distribution/GoogleNews-vectors-negative300.bin.gz\n",
      "Resolving s3.amazonaws.com (s3.amazonaws.com)... 52.216.96.245\n",
      "Connecting to s3.amazonaws.com (s3.amazonaws.com)|52.216.96.245|:443... connected.\n",
      "HTTP request sent, awaiting response... 416 Requested Range Not Satisfiable\n",
      "\n",
      "    The file is already fully retrieved; nothing to do.\n",
      "\n"
     ]
    }
   ],
   "source": [
    "!wget -c \"https://s3.amazonaws.com/dl4j-distribution/GoogleNews-vectors-negative300.bin.gz\""
   ]
  },
  {
   "cell_type": "code",
   "execution_count": 4,
   "metadata": {
    "colab": {},
    "colab_type": "code",
    "id": "gAAJXaEe76RZ"
   },
   "outputs": [],
   "source": [
    "# Load data as a list of pairs of sentences and labels (0 for non-spam, 1 for spam)\n",
    "data = []\n",
    "with open('SMSSpamCollection') as f:\n",
    "    for line in f:\n",
    "        firstword = (line.split()[0])\n",
    "        label = None\n",
    "        if firstword == 'ham':\n",
    "            label = 0\n",
    "        else: \n",
    "            label = 1\n",
    "        text = line.replace(firstword,'').strip()\n",
    "        data.append([text,label])\n",
    "# transform data to numpy array\n",
    "data = pd.DataFrame(np.array(data),columns=['text','label'])"
   ]
  },
  {
   "cell_type": "code",
   "execution_count": 5,
   "metadata": {
    "colab": {},
    "colab_type": "code",
    "id": "b68-TaicZya8"
   },
   "outputs": [
    {
     "ename": "NameError",
     "evalue": "name 'project_path' is not defined",
     "output_type": "error",
     "traceback": [
      "\u001b[0;31m---------------------------------------------------------------------------\u001b[0m",
      "\u001b[0;31mNameError\u001b[0m                                 Traceback (most recent call last)",
      "\u001b[0;32m<ipython-input-5-a4631a3b7a3b>\u001b[0m in \u001b[0;36m<module>\u001b[0;34m\u001b[0m\n\u001b[0;32m----> 1\u001b[0;31m \u001b[0mmdcp\u001b[0m \u001b[0;34m=\u001b[0m \u001b[0mModelCheckpoint\u001b[0m\u001b[0;34m(\u001b[0m\u001b[0mfilepath\u001b[0m\u001b[0;34m=\u001b[0m\u001b[0mproject_path\u001b[0m \u001b[0;34m+\u001b[0m \u001b[0;34m'weights.{epoch:02d}-{val_f1_m:.2f}'\u001b[0m\u001b[0;34m,\u001b[0m\u001b[0mmonitor\u001b[0m\u001b[0;34m=\u001b[0m\u001b[0;34m'val_f1_m'\u001b[0m\u001b[0;34m)\u001b[0m\u001b[0;34m\u001b[0m\u001b[0;34m\u001b[0m\u001b[0m\n\u001b[0m",
      "\u001b[0;31mNameError\u001b[0m: name 'project_path' is not defined"
     ]
    }
   ],
   "source": [
    "mdcp = ModelCheckpoint(filepath=project_path + 'weights.{epoch:02d}-{val_f1_m:.2f}',monitor='val_f1_m')"
   ]
  },
  {
   "cell_type": "code",
   "execution_count": 6,
   "metadata": {
    "colab": {},
    "colab_type": "code",
    "id": "lF-zYT-Kw3Er"
   },
   "outputs": [],
   "source": [
    "def recall_m(y_true, y_pred):\n",
    "        true_positives = K.sum(K.round(K.clip(y_true * y_pred, 0, 1)))\n",
    "        possible_positives = K.sum(K.round(K.clip(y_true, 0, 1)))\n",
    "        recall = true_positives / (possible_positives + K.epsilon())\n",
    "        return recall\n",
    "\n",
    "def precision_m(y_true, y_pred):\n",
    "        true_positives = K.sum(K.round(K.clip(y_true * y_pred, 0, 1)))\n",
    "        predicted_positives = K.sum(K.round(K.clip(y_pred, 0, 1)))\n",
    "        precision = true_positives / (predicted_positives + K.epsilon())\n",
    "        return precision\n",
    "\n",
    "def f1_m(y_true, y_pred):\n",
    "    precision = precision_m(y_true, y_pred)\n",
    "    recall = recall_m(y_true, y_pred)\n",
    "    return 2*((precision*recall)/(precision+recall+K.epsilon()))\n",
    "    \n",
    "#Dividing the dataset into features and lables\n",
    "X = data['text']\n",
    "Y = data['label']\n"
   ]
  },
  {
   "cell_type": "code",
   "execution_count": 7,
   "metadata": {
    "colab": {},
    "colab_type": "code",
    "id": "rxxNPP4Oyddn"
   },
   "outputs": [],
   "source": [
    "max_words = 3500\n",
    "max_len = 50\n",
    "tok = Tokenizer(num_words=max_words)\n",
    "tok.fit_on_texts(X)\n",
    "sequences = tok.texts_to_sequences(X)\n",
    "sequences_matrix = sequence.pad_sequences(sequences,maxlen=max_len)"
   ]
  },
  {
   "cell_type": "code",
   "execution_count": 8,
   "metadata": {
    "colab": {},
    "colab_type": "code",
    "id": "Z5yJPxRvxVdC"
   },
   "outputs": [],
   "source": [
    "X_train,X_test,Y_train,Y_test=train_test_split(sequences_matrix,Y,test_size=0.15,random_state=4)"
   ]
  },
  {
   "cell_type": "code",
   "execution_count": 9,
   "metadata": {
    "colab": {
     "base_uri": "https://localhost:8080/",
     "height": 434
    },
    "colab_type": "code",
    "id": "Xy-ucl5gb22u",
    "outputId": "5ad8385c-dfdb-4c57-8845-9ad1901edd95"
   },
   "outputs": [
    {
     "name": "stdout",
     "output_type": "stream",
     "text": [
      "Model: \"model\"\n",
      "_________________________________________________________________\n",
      "Layer (type)                 Output Shape              Param #   \n",
      "=================================================================\n",
      "inputs (InputLayer)          [(None, 50)]              0         \n",
      "_________________________________________________________________\n",
      "embedding (Embedding)        (None, 50, 50)            175000    \n",
      "_________________________________________________________________\n",
      "lstm (LSTM)                  (None, 64)                29440     \n",
      "_________________________________________________________________\n",
      "FC1 (Dense)                  (None, 256)               16640     \n",
      "_________________________________________________________________\n",
      "activation (Activation)      (None, 256)               0         \n",
      "_________________________________________________________________\n",
      "dropout (Dropout)            (None, 256)               0         \n",
      "_________________________________________________________________\n",
      "out_layer (Dense)            (None, 1)                 257       \n",
      "_________________________________________________________________\n",
      "activation_1 (Activation)    (None, 1)                 0         \n",
      "=================================================================\n",
      "Total params: 221,337\n",
      "Trainable params: 221,337\n",
      "Non-trainable params: 0\n",
      "_________________________________________________________________\n"
     ]
    }
   ],
   "source": [
    "def RNN():\n",
    "    inputs = Input(name='inputs',shape=[max_len])\n",
    "    layer = Embedding(max_words,50,input_length=max_len)(inputs)\n",
    "    layer = LSTM(64)(layer)\n",
    "    layer = Dense(256,name='FC1')(layer)\n",
    "    layer = Activation('relu')(layer)\n",
    "    layer = Dropout(0.25)(layer)\n",
    "    layer = Dense(1,name='out_layer')(layer)\n",
    "    layer = Activation('sigmoid')(layer)\n",
    "    model = Model(inputs=inputs,outputs=layer)\n",
    "    return model\n",
    "model = RNN()\n",
    "model.summary()\n",
    "model.compile(loss='binary_crossentropy',optimizer=RMSprop(),metrics=['accuracy',recall_m,precision_m,f1_m])"
   ]
  },
  {
   "cell_type": "code",
   "execution_count": 109,
   "metadata": {
    "colab": {
     "base_uri": "https://localhost:8080/",
     "height": 419
    },
    "colab_type": "code",
    "id": "w0gD3cbjW8Oi",
    "outputId": "4bd07afb-3839-42c7-ec30-67af2bac4d92"
   },
   "outputs": [
    {
     "name": "stdout",
     "output_type": "stream",
     "text": [
      "Train on 3789 samples, validate on 948 samples\n",
      "Epoch 1/10\n",
      "3789/3789 [==============================] - 15s 4ms/step - loss: 0.2233 - acc: 0.9171 - recall_m: 0.4176 - precision_m: 0.5778 - f1_m: 0.4671 - val_loss: 0.0713 - val_acc: 0.9852 - val_recall_m: 0.9007 - val_precision_m: 0.9904 - val_f1_m: 0.9409\n",
      "Epoch 2/10\n",
      "3789/3789 [==============================] - 7s 2ms/step - loss: 0.0449 - acc: 0.9860 - recall_m: 0.9176 - precision_m: 0.9732 - f1_m: 0.9413 - val_loss: 0.0393 - val_acc: 0.9873 - val_recall_m: 0.9266 - val_precision_m: 0.9735 - val_f1_m: 0.9462\n",
      "Epoch 3/10\n",
      "3789/3789 [==============================] - 7s 2ms/step - loss: 0.0275 - acc: 0.9918 - recall_m: 0.9570 - precision_m: 0.9834 - f1_m: 0.9677 - val_loss: 0.0356 - val_acc: 0.9884 - val_recall_m: 0.9363 - val_precision_m: 0.9735 - val_f1_m: 0.9513\n",
      "Epoch 4/10\n",
      "3789/3789 [==============================] - 7s 2ms/step - loss: 0.0173 - acc: 0.9952 - recall_m: 0.9766 - precision_m: 0.9827 - f1_m: 0.9784 - val_loss: 0.0368 - val_acc: 0.9873 - val_recall_m: 0.9296 - val_precision_m: 0.9730 - val_f1_m: 0.9486\n",
      "Epoch 5/10\n",
      "3789/3789 [==============================] - 7s 2ms/step - loss: 0.0099 - acc: 0.9974 - recall_m: 0.9791 - precision_m: 0.9938 - f1_m: 0.9859 - val_loss: 0.0467 - val_acc: 0.9873 - val_recall_m: 0.9235 - val_precision_m: 0.9791 - val_f1_m: 0.9482\n",
      "Epoch 6/10\n",
      "3789/3789 [==============================] - 7s 2ms/step - loss: 0.0057 - acc: 0.9984 - recall_m: 0.9906 - precision_m: 0.9958 - f1_m: 0.9926 - val_loss: 0.0653 - val_acc: 0.9852 - val_recall_m: 0.9117 - val_precision_m: 0.9791 - val_f1_m: 0.9411\n",
      "Epoch 7/10\n",
      "3789/3789 [==============================] - 8s 2ms/step - loss: 0.0035 - acc: 0.9987 - recall_m: 0.9865 - precision_m: 0.9942 - f1_m: 0.9896 - val_loss: 0.0764 - val_acc: 0.9852 - val_recall_m: 0.9470 - val_precision_m: 0.9453 - val_f1_m: 0.9430\n",
      "Epoch 8/10\n",
      "3789/3789 [==============================] - 7s 2ms/step - loss: 0.0115 - acc: 0.9984 - recall_m: 0.9868 - precision_m: 0.9923 - f1_m: 0.9888 - val_loss: 0.0751 - val_acc: 0.9884 - val_recall_m: 0.9296 - val_precision_m: 0.9807 - val_f1_m: 0.9529\n",
      "Epoch 9/10\n",
      "3789/3789 [==============================] - 7s 2ms/step - loss: 0.0022 - acc: 0.9992 - recall_m: 0.9958 - precision_m: 0.9960 - f1_m: 0.9955 - val_loss: 0.0799 - val_acc: 0.9873 - val_recall_m: 0.9348 - val_precision_m: 0.9711 - val_f1_m: 0.9507\n",
      "Epoch 10/10\n",
      "3789/3789 [==============================] - 7s 2ms/step - loss: 6.3067e-04 - acc: 0.9997 - recall_m: 0.9950 - precision_m: 0.9966 - f1_m: 0.9958 - val_loss: 0.0920 - val_acc: 0.9873 - val_recall_m: 0.9296 - val_precision_m: 0.9711 - val_f1_m: 0.9478\n"
     ]
    },
    {
     "data": {
      "text/plain": [
       "<keras.callbacks.History at 0x7f40ac098240>"
      ]
     },
     "execution_count": 109,
     "metadata": {
      "tags": []
     },
     "output_type": "execute_result"
    }
   ],
   "source": [
    "model.fit(X_train,Y_train,batch_size=64,epochs=10,\n",
    "          validation_split=0.2,callbacks=[mdcp])"
   ]
  },
  {
   "cell_type": "code",
   "execution_count": 111,
   "metadata": {
    "colab": {
     "base_uri": "https://localhost:8080/",
     "height": 121
    },
    "colab_type": "code",
    "id": "pJHtRY-ogQzO",
    "outputId": "37266627-b7e2-43ae-8786-7cc74b0d22b5"
   },
   "outputs": [
    {
     "name": "stdout",
     "output_type": "stream",
     "text": [
      "837/837 [==============================] - 1s 1ms/step\n"
     ]
    },
    {
     "data": {
      "text/plain": [
       "[0.12895864789407574,\n",
       " 0.9904420549581839,\n",
       " 0.9422616696557121,\n",
       " 0.9876543202280571,\n",
       " 0.9614949197894499]"
      ]
     },
     "execution_count": 111,
     "metadata": {
      "tags": []
     },
     "output_type": "execute_result"
    }
   ],
   "source": [
    "path_model = \"/content/drive/My Drive/Spam-Classification/weights.08-0.95\"\n",
    "model.load_weights(path_model)\n",
    "model.evaluate(X_test,Y_test,verbose=1)"
   ]
  },
  {
   "cell_type": "code",
   "execution_count": 10,
   "metadata": {
    "colab": {
     "base_uri": "https://localhost:8080/",
     "height": 121
    },
    "colab_type": "code",
    "id": "SVvdUJg20428",
    "outputId": "a7a8f102-3861-41e2-cca5-f7e4db0e0824"
   },
   "outputs": [
    {
     "ename": "ValueError",
     "evalue": "Failed to find data adapter that can handle input: <class 'numpy.ndarray'>, <class 'pandas.core.series.Series'>",
     "output_type": "error",
     "traceback": [
      "\u001b[0;31m---------------------------------------------------------------------------\u001b[0m",
      "\u001b[0;31mValueError\u001b[0m                                Traceback (most recent call last)",
      "\u001b[0;32m<ipython-input-10-e905116f8e69>\u001b[0m in \u001b[0;36m<module>\u001b[0;34m\u001b[0m\n\u001b[1;32m      2\u001b[0m \u001b[0mpath_model\u001b[0m \u001b[0;34m=\u001b[0m \u001b[0;34m\"weights-9529-test-9615-best.h5\"\u001b[0m\u001b[0;34m\u001b[0m\u001b[0;34m\u001b[0m\u001b[0m\n\u001b[1;32m      3\u001b[0m \u001b[0mmodel\u001b[0m\u001b[0;34m.\u001b[0m\u001b[0mload_weights\u001b[0m\u001b[0;34m(\u001b[0m\u001b[0mpath_model\u001b[0m\u001b[0;34m)\u001b[0m\u001b[0;34m\u001b[0m\u001b[0;34m\u001b[0m\u001b[0m\n\u001b[0;32m----> 4\u001b[0;31m \u001b[0mmodel\u001b[0m\u001b[0;34m.\u001b[0m\u001b[0mevaluate\u001b[0m\u001b[0;34m(\u001b[0m\u001b[0mX_test\u001b[0m\u001b[0;34m,\u001b[0m\u001b[0mY_test\u001b[0m\u001b[0;34m,\u001b[0m\u001b[0mverbose\u001b[0m\u001b[0;34m=\u001b[0m\u001b[0;36m1\u001b[0m\u001b[0;34m)\u001b[0m\u001b[0;34m\u001b[0m\u001b[0;34m\u001b[0m\u001b[0m\n\u001b[0m",
      "\u001b[0;32m~/.conda/envs/tf2/lib/python3.7/site-packages/tensorflow_core/python/keras/engine/training.py\u001b[0m in \u001b[0;36mevaluate\u001b[0;34m(self, x, y, batch_size, verbose, sample_weight, steps, callbacks, max_queue_size, workers, use_multiprocessing)\u001b[0m\n\u001b[1;32m    831\u001b[0m         \u001b[0mmax_queue_size\u001b[0m\u001b[0;34m=\u001b[0m\u001b[0mmax_queue_size\u001b[0m\u001b[0;34m,\u001b[0m\u001b[0;34m\u001b[0m\u001b[0;34m\u001b[0m\u001b[0m\n\u001b[1;32m    832\u001b[0m         \u001b[0mworkers\u001b[0m\u001b[0;34m=\u001b[0m\u001b[0mworkers\u001b[0m\u001b[0;34m,\u001b[0m\u001b[0;34m\u001b[0m\u001b[0;34m\u001b[0m\u001b[0m\n\u001b[0;32m--> 833\u001b[0;31m         use_multiprocessing=use_multiprocessing)\n\u001b[0m\u001b[1;32m    834\u001b[0m \u001b[0;34m\u001b[0m\u001b[0m\n\u001b[1;32m    835\u001b[0m   def predict(self,\n",
      "\u001b[0;32m~/.conda/envs/tf2/lib/python3.7/site-packages/tensorflow_core/python/keras/engine/training_v2.py\u001b[0m in \u001b[0;36mevaluate\u001b[0;34m(self, model, x, y, batch_size, verbose, sample_weight, steps, callbacks, **kwargs)\u001b[0m\n\u001b[1;32m    454\u001b[0m     return self._model_iteration(\n\u001b[1;32m    455\u001b[0m         \u001b[0mmodel\u001b[0m\u001b[0;34m,\u001b[0m \u001b[0mModeKeys\u001b[0m\u001b[0;34m.\u001b[0m\u001b[0mTEST\u001b[0m\u001b[0;34m,\u001b[0m \u001b[0mx\u001b[0m\u001b[0;34m=\u001b[0m\u001b[0mx\u001b[0m\u001b[0;34m,\u001b[0m \u001b[0my\u001b[0m\u001b[0;34m=\u001b[0m\u001b[0my\u001b[0m\u001b[0;34m,\u001b[0m \u001b[0mbatch_size\u001b[0m\u001b[0;34m=\u001b[0m\u001b[0mbatch_size\u001b[0m\u001b[0;34m,\u001b[0m \u001b[0mverbose\u001b[0m\u001b[0;34m=\u001b[0m\u001b[0mverbose\u001b[0m\u001b[0;34m,\u001b[0m\u001b[0;34m\u001b[0m\u001b[0;34m\u001b[0m\u001b[0m\n\u001b[0;32m--> 456\u001b[0;31m         sample_weight=sample_weight, steps=steps, callbacks=callbacks, **kwargs)\n\u001b[0m\u001b[1;32m    457\u001b[0m \u001b[0;34m\u001b[0m\u001b[0m\n\u001b[1;32m    458\u001b[0m   def predict(self, model, x, batch_size=None, verbose=0, steps=None,\n",
      "\u001b[0;32m~/.conda/envs/tf2/lib/python3.7/site-packages/tensorflow_core/python/keras/engine/training_v2.py\u001b[0m in \u001b[0;36m_model_iteration\u001b[0;34m(self, model, mode, x, y, batch_size, verbose, sample_weight, steps, callbacks, **kwargs)\u001b[0m\n\u001b[1;32m    394\u001b[0m           \u001b[0msample_weights\u001b[0m\u001b[0;34m=\u001b[0m\u001b[0msample_weight\u001b[0m\u001b[0;34m,\u001b[0m\u001b[0;34m\u001b[0m\u001b[0;34m\u001b[0m\u001b[0m\n\u001b[1;32m    395\u001b[0m           \u001b[0msteps\u001b[0m\u001b[0;34m=\u001b[0m\u001b[0msteps\u001b[0m\u001b[0;34m,\u001b[0m\u001b[0;34m\u001b[0m\u001b[0;34m\u001b[0m\u001b[0m\n\u001b[0;32m--> 396\u001b[0;31m           distribution_strategy=strategy)\n\u001b[0m\u001b[1;32m    397\u001b[0m       \u001b[0mtotal_samples\u001b[0m \u001b[0;34m=\u001b[0m \u001b[0m_get_total_number_of_samples\u001b[0m\u001b[0;34m(\u001b[0m\u001b[0madapter\u001b[0m\u001b[0;34m)\u001b[0m\u001b[0;34m\u001b[0m\u001b[0;34m\u001b[0m\u001b[0m\n\u001b[1;32m    398\u001b[0m       \u001b[0muse_sample\u001b[0m \u001b[0;34m=\u001b[0m \u001b[0mtotal_samples\u001b[0m \u001b[0;32mis\u001b[0m \u001b[0;32mnot\u001b[0m \u001b[0;32mNone\u001b[0m\u001b[0;34m\u001b[0m\u001b[0;34m\u001b[0m\u001b[0m\n",
      "\u001b[0;32m~/.conda/envs/tf2/lib/python3.7/site-packages/tensorflow_core/python/keras/engine/training_v2.py\u001b[0m in \u001b[0;36m_process_inputs\u001b[0;34m(model, x, y, batch_size, epochs, sample_weights, class_weights, shuffle, steps, distribution_strategy, max_queue_size, workers, use_multiprocessing)\u001b[0m\n\u001b[1;32m    583\u001b[0m                     use_multiprocessing=False):\n\u001b[1;32m    584\u001b[0m   \u001b[0;34m\"\"\"Process the inputs for fit/eval/predict().\"\"\"\u001b[0m\u001b[0;34m\u001b[0m\u001b[0;34m\u001b[0m\u001b[0m\n\u001b[0;32m--> 585\u001b[0;31m   \u001b[0madapter_cls\u001b[0m \u001b[0;34m=\u001b[0m \u001b[0mdata_adapter\u001b[0m\u001b[0;34m.\u001b[0m\u001b[0mselect_data_adapter\u001b[0m\u001b[0;34m(\u001b[0m\u001b[0mx\u001b[0m\u001b[0;34m,\u001b[0m \u001b[0my\u001b[0m\u001b[0;34m)\u001b[0m\u001b[0;34m\u001b[0m\u001b[0;34m\u001b[0m\u001b[0m\n\u001b[0m\u001b[1;32m    586\u001b[0m   \u001b[0;32mif\u001b[0m \u001b[0madapter_cls\u001b[0m \u001b[0;32min\u001b[0m \u001b[0m_ADAPTER_FOR_STANDARDIZE_USER_DATA\u001b[0m\u001b[0;34m:\u001b[0m\u001b[0;34m\u001b[0m\u001b[0;34m\u001b[0m\u001b[0m\n\u001b[1;32m    587\u001b[0m     x, y, sample_weights = model._standardize_user_data(\n",
      "\u001b[0;32m~/.conda/envs/tf2/lib/python3.7/site-packages/tensorflow_core/python/keras/engine/data_adapter.py\u001b[0m in \u001b[0;36mselect_data_adapter\u001b[0;34m(x, y)\u001b[0m\n\u001b[1;32m    651\u001b[0m         \u001b[0;34m\"Failed to find data adapter that can handle \"\u001b[0m\u001b[0;34m\u001b[0m\u001b[0;34m\u001b[0m\u001b[0m\n\u001b[1;32m    652\u001b[0m         \"input: {}, {}\".format(\n\u001b[0;32m--> 653\u001b[0;31m             _type_name(x), _type_name(y)))\n\u001b[0m\u001b[1;32m    654\u001b[0m   \u001b[0;32melif\u001b[0m \u001b[0mlen\u001b[0m\u001b[0;34m(\u001b[0m\u001b[0madapter_cls\u001b[0m\u001b[0;34m)\u001b[0m \u001b[0;34m>\u001b[0m \u001b[0;36m1\u001b[0m\u001b[0;34m:\u001b[0m\u001b[0;34m\u001b[0m\u001b[0;34m\u001b[0m\u001b[0m\n\u001b[1;32m    655\u001b[0m     raise RuntimeError(\n",
      "\u001b[0;31mValueError\u001b[0m: Failed to find data adapter that can handle input: <class 'numpy.ndarray'>, <class 'pandas.core.series.Series'>"
     ]
    }
   ],
   "source": [
    "X_train,X_test,Y_train,Y_test=train_test_split(sequences_matrix,Y,test_size=0.15,random_state=8)\n",
    "path_model = \"weights-9529-test-9615-best.h5\"\n",
    "model.load_weights(path_model)\n",
    "model.evaluate(X_test,Y_test,verbose=1)"
   ]
  },
  {
   "cell_type": "code",
   "execution_count": 132,
   "metadata": {
    "colab": {
     "base_uri": "https://localhost:8080/",
     "height": 104
    },
    "colab_type": "code",
    "id": "na_UANsu_K_Q",
    "outputId": "c41c2ee9-a759-4563-c94f-a41d8d2bdf7e"
   },
   "outputs": [
    {
     "name": "stdout",
     "output_type": "stream",
     "text": [
      "837/837 [==============================] - 1s 1ms/step\n",
      "837/837 [==============================] - 1s 1ms/step\n",
      "837/837 [==============================] - 1s 1ms/step\n",
      "837/837 [==============================] - 1s 1ms/step\n",
      "837/837 [==============================] - 1s 1ms/step\n"
     ]
    }
   ],
   "source": [
    "path_model = \"/content/drive/My Drive/Spam-Classification/weights-9529-test-9614-best\"\n",
    "records = []\n",
    "for i in range(5):\n",
    "  X_train,X_test,Y_train,Y_test=train_test_split(sequences_matrix,Y,test_size=0.15,random_state=i)\n",
    "  model.load_weights(path_model)\n",
    "  _,accuracy,recall,precision,f1=model.evaluate(X_test,Y_test)\n",
    "  records.append([accuracy,precision,recall,f1])\n",
    "records_df = pd.DataFrame(records,columns=['Accuracy','Recall','Precision','F1-Score'])"
   ]
  },
  {
   "cell_type": "code",
   "execution_count": 133,
   "metadata": {
    "colab": {
     "base_uri": "https://localhost:8080/",
     "height": 206
    },
    "colab_type": "code",
    "id": "OihUSrRtCxP4",
    "outputId": "02f91e67-ea79-412a-e5b3-9a696d4173c8"
   },
   "outputs": [
    {
     "data": {
      "text/html": [
       "<div>\n",
       "<style scoped>\n",
       "    .dataframe tbody tr th:only-of-type {\n",
       "        vertical-align: middle;\n",
       "    }\n",
       "\n",
       "    .dataframe tbody tr th {\n",
       "        vertical-align: top;\n",
       "    }\n",
       "\n",
       "    .dataframe thead th {\n",
       "        text-align: right;\n",
       "    }\n",
       "</style>\n",
       "<table border=\"1\" class=\"dataframe\">\n",
       "  <thead>\n",
       "    <tr style=\"text-align: right;\">\n",
       "      <th></th>\n",
       "      <th>Accuracy</th>\n",
       "      <th>Recall</th>\n",
       "      <th>Precision</th>\n",
       "      <th>F1-Score</th>\n",
       "    </tr>\n",
       "  </thead>\n",
       "  <tbody>\n",
       "    <tr>\n",
       "      <th>0</th>\n",
       "      <td>0.996416</td>\n",
       "      <td>0.955794</td>\n",
       "      <td>0.939409</td>\n",
       "      <td>0.946482</td>\n",
       "    </tr>\n",
       "    <tr>\n",
       "      <th>1</th>\n",
       "      <td>0.996416</td>\n",
       "      <td>0.970450</td>\n",
       "      <td>0.994026</td>\n",
       "      <td>0.980841</td>\n",
       "    </tr>\n",
       "    <tr>\n",
       "      <th>2</th>\n",
       "      <td>0.995221</td>\n",
       "      <td>0.986380</td>\n",
       "      <td>0.973636</td>\n",
       "      <td>0.978579</td>\n",
       "    </tr>\n",
       "    <tr>\n",
       "      <th>3</th>\n",
       "      <td>0.995221</td>\n",
       "      <td>0.952210</td>\n",
       "      <td>0.934005</td>\n",
       "      <td>0.940258</td>\n",
       "    </tr>\n",
       "    <tr>\n",
       "      <th>4</th>\n",
       "      <td>0.990442</td>\n",
       "      <td>0.987654</td>\n",
       "      <td>0.942262</td>\n",
       "      <td>0.961495</td>\n",
       "    </tr>\n",
       "  </tbody>\n",
       "</table>\n",
       "</div>"
      ],
      "text/plain": [
       "   Accuracy    Recall  Precision  F1-Score\n",
       "0  0.996416  0.955794   0.939409  0.946482\n",
       "1  0.996416  0.970450   0.994026  0.980841\n",
       "2  0.995221  0.986380   0.973636  0.978579\n",
       "3  0.995221  0.952210   0.934005  0.940258\n",
       "4  0.990442  0.987654   0.942262  0.961495"
      ]
     },
     "execution_count": 133,
     "metadata": {
      "tags": []
     },
     "output_type": "execute_result"
    }
   ],
   "source": [
    "records_df"
   ]
  },
  {
   "cell_type": "code",
   "execution_count": 129,
   "metadata": {
    "colab": {
     "base_uri": "https://localhost:8080/",
     "height": 206
    },
    "colab_type": "code",
    "id": "8-r2L6i6FYtC",
    "outputId": "1dd71293-21ed-4fc7-883c-26d20471734c"
   },
   "outputs": [
    {
     "data": {
      "text/html": [
       "<div>\n",
       "<style scoped>\n",
       "    .dataframe tbody tr th:only-of-type {\n",
       "        vertical-align: middle;\n",
       "    }\n",
       "\n",
       "    .dataframe tbody tr th {\n",
       "        vertical-align: top;\n",
       "    }\n",
       "\n",
       "    .dataframe thead th {\n",
       "        text-align: right;\n",
       "    }\n",
       "</style>\n",
       "<table border=\"1\" class=\"dataframe\">\n",
       "  <thead>\n",
       "    <tr style=\"text-align: right;\">\n",
       "      <th></th>\n",
       "      <th>Accuracy</th>\n",
       "      <th>Recall</th>\n",
       "      <th>Precision</th>\n",
       "      <th>F1-Score</th>\n",
       "    </tr>\n",
       "  </thead>\n",
       "  <tbody>\n",
       "    <tr>\n",
       "      <th>0</th>\n",
       "      <td>0.992832</td>\n",
       "      <td>0.949423</td>\n",
       "      <td>0.930472</td>\n",
       "      <td>0.937131</td>\n",
       "    </tr>\n",
       "    <tr>\n",
       "      <th>1</th>\n",
       "      <td>0.994026</td>\n",
       "      <td>0.925846</td>\n",
       "      <td>0.946237</td>\n",
       "      <td>0.932977</td>\n",
       "    </tr>\n",
       "    <tr>\n",
       "      <th>2</th>\n",
       "      <td>0.989247</td>\n",
       "      <td>0.987654</td>\n",
       "      <td>0.921598</td>\n",
       "      <td>0.947080</td>\n",
       "    </tr>\n",
       "    <tr>\n",
       "      <th>3</th>\n",
       "      <td>0.992832</td>\n",
       "      <td>0.956307</td>\n",
       "      <td>0.920199</td>\n",
       "      <td>0.935488</td>\n",
       "    </tr>\n",
       "    <tr>\n",
       "      <th>4</th>\n",
       "      <td>0.988053</td>\n",
       "      <td>0.981282</td>\n",
       "      <td>0.932704</td>\n",
       "      <td>0.952558</td>\n",
       "    </tr>\n",
       "  </tbody>\n",
       "</table>\n",
       "</div>"
      ],
      "text/plain": [
       "   Accuracy    Recall  Precision  F1-Score\n",
       "0  0.992832  0.949423   0.930472  0.937131\n",
       "1  0.994026  0.925846   0.946237  0.932977\n",
       "2  0.989247  0.987654   0.921598  0.947080\n",
       "3  0.992832  0.956307   0.920199  0.935488\n",
       "4  0.988053  0.981282   0.932704  0.952558"
      ]
     },
     "execution_count": 129,
     "metadata": {
      "tags": []
     },
     "output_type": "execute_result"
    }
   ],
   "source": [
    "records_df\n"
   ]
  },
  {
   "cell_type": "code",
   "execution_count": 131,
   "metadata": {
    "colab": {
     "base_uri": "https://localhost:8080/",
     "height": 206
    },
    "colab_type": "code",
    "id": "X2mMkHYIFlxv",
    "outputId": "4d91cbec-ee01-4bf5-f72c-b473b8f76303"
   },
   "outputs": [
    {
     "data": {
      "text/html": [
       "<div>\n",
       "<style scoped>\n",
       "    .dataframe tbody tr th:only-of-type {\n",
       "        vertical-align: middle;\n",
       "    }\n",
       "\n",
       "    .dataframe tbody tr th {\n",
       "        vertical-align: top;\n",
       "    }\n",
       "\n",
       "    .dataframe thead th {\n",
       "        text-align: right;\n",
       "    }\n",
       "</style>\n",
       "<table border=\"1\" class=\"dataframe\">\n",
       "  <thead>\n",
       "    <tr style=\"text-align: right;\">\n",
       "      <th></th>\n",
       "      <th>Accuracy</th>\n",
       "      <th>Recall</th>\n",
       "      <th>Precision</th>\n",
       "      <th>F1-Score</th>\n",
       "    </tr>\n",
       "  </thead>\n",
       "  <tbody>\n",
       "    <tr>\n",
       "      <th>0</th>\n",
       "      <td>0.997611</td>\n",
       "      <td>0.955794</td>\n",
       "      <td>0.944871</td>\n",
       "      <td>0.949913</td>\n",
       "    </tr>\n",
       "    <tr>\n",
       "      <th>1</th>\n",
       "      <td>0.995221</td>\n",
       "      <td>0.962804</td>\n",
       "      <td>0.994026</td>\n",
       "      <td>0.976593</td>\n",
       "    </tr>\n",
       "    <tr>\n",
       "      <th>2</th>\n",
       "      <td>0.995221</td>\n",
       "      <td>0.986380</td>\n",
       "      <td>0.973636</td>\n",
       "      <td>0.978579</td>\n",
       "    </tr>\n",
       "    <tr>\n",
       "      <th>3</th>\n",
       "      <td>0.995221</td>\n",
       "      <td>0.952210</td>\n",
       "      <td>0.934005</td>\n",
       "      <td>0.940258</td>\n",
       "    </tr>\n",
       "    <tr>\n",
       "      <th>4</th>\n",
       "      <td>0.989247</td>\n",
       "      <td>0.981282</td>\n",
       "      <td>0.942262</td>\n",
       "      <td>0.958019</td>\n",
       "    </tr>\n",
       "  </tbody>\n",
       "</table>\n",
       "</div>"
      ],
      "text/plain": [
       "   Accuracy    Recall  Precision  F1-Score\n",
       "0  0.997611  0.955794   0.944871  0.949913\n",
       "1  0.995221  0.962804   0.994026  0.976593\n",
       "2  0.995221  0.986380   0.973636  0.978579\n",
       "3  0.995221  0.952210   0.934005  0.940258\n",
       "4  0.989247  0.981282   0.942262  0.958019"
      ]
     },
     "execution_count": 131,
     "metadata": {
      "tags": []
     },
     "output_type": "execute_result"
    }
   ],
   "source": [
    "records_df\n"
   ]
  },
  {
   "cell_type": "code",
   "execution_count": 0,
   "metadata": {
    "colab": {},
    "colab_type": "code",
    "id": "pmDKdp1aFrnW"
   },
   "outputs": [],
   "source": []
  }
 ],
 "metadata": {
  "accelerator": "GPU",
  "colab": {
   "name": "Spam Detection LSTM",
   "provenance": []
  },
  "kernelspec": {
   "display_name": "Python 3",
   "language": "python",
   "name": "python3"
  },
  "language_info": {
   "codemirror_mode": {
    "name": "ipython",
    "version": 3
   },
   "file_extension": ".py",
   "mimetype": "text/x-python",
   "name": "python",
   "nbconvert_exporter": "python",
   "pygments_lexer": "ipython3",
   "version": "3.7.4"
  }
 },
 "nbformat": 4,
 "nbformat_minor": 1
}
